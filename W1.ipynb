{
 "cells": [
  {
   "cell_type": "markdown",
   "metadata": {},
   "source": [
    "A01367585 | Fabián González Vera"
   ]
  },
  {
   "cell_type": "code",
   "execution_count": null,
   "metadata": {},
   "outputs": [],
   "source": [
    "import pandas as pd\n",
    "import matplotlib.pyplot as plt\n",
    "import numpy as np\n",
    "import seaborn as sns\n",
    "from scipy.stats.mstats import winsorize"
   ]
  },
  {
   "cell_type": "markdown",
   "metadata": {},
   "source": [
    "https://rpubs.com/cdorante/tc3006c_p2"
   ]
  },
  {
   "cell_type": "markdown",
   "metadata": {},
   "source": [
    "# Descriptive statistics for ratios/percentages\n",
    "\n",
    "Como reportar el promedio/medida de tendencia central de proporciones\n",
    "Ej.\n",
    "\n",
    "Ventas anuales de producto\n",
    "\n",
    "```\n",
    "| producto  | Precio Unitario | #unidades | Ventas | costo unitario | costo total | ganancia bruta | margen de ganancia | <br>\n",
    "| laptop    | $20,000         |    20     |  2M    |  $16,000       |  1.6M       |  400k | 0.20 |<br>\n",
    "| Mouse     | $1,000       |    100     |  100k    |  $4,000       |  40k       |  60k | 0.60 |<br>\n",
    "| Sumatoria | - | - | 2.1 | - | - | 460k | 0.40 |\n",
    "```\n",
    "\n",
    "margen de ganancia = (0.20+0.60)/2=0.40\n",
    "\n",
    "\n",
    "JAMÁS CALCULEN PROMDIOS ARTIMETICO DE VARIABLES DE PROPORCIONES/%\n",
    "\n",
    "Promedio ponderado = Sumatoria(Numerador)/sumatoria(denominador)\n",
    "Para medidas de dispersion interpretar percentiles: Q1, Q2, Q3, IQR\n",
    "\n",
    "Dummy encoding\n",
    "codifica variables categorias como numericas, genera n-1 variables, escoge una variable como base, el base es 0 en todas las demas variables.\n",
    "\n",
    "Cuando las variables en regresion lineal son dummies, no se interpretan de la manera que se interpretan las demas variables, lo que sucede es que hay n ecuaciones de regresion como hay n dummies, una ecuacion para cada categoria.\n",
    "\n",
    "Su Beta es la distancia que la linea con ciertas variables categoricas esta de la otra linea sin varibable.\n",
    "\n"
   ]
  },
  {
   "cell_type": "markdown",
   "metadata": {},
   "source": [
    "# Review Regression wit categorical variables interaction effects\n",
    "\n",
    "Cuando se trata de variables categoricas, se convierte en valores binarios, con cada valor siendo una columna con Dummies es n-1; al hacer una regresion lineal en esencia se crean n ecuaciones.\n",
    "\n",
    "\n",
    "## Interaction Effect\n",
    "\n",
    "y = b0 + b1 * x1 + [b2 * x2g2 + b2 * x2g3] + b4(x2g2 * x1) + b5(x2g3 * x1) * E"
   ]
  },
  {
   "cell_type": "markdown",
   "metadata": {},
   "source": [
    "# Time Series/ modelos autoregresivos\n",
    "\n",
    "El proposito es entender los valores con su pasado.\n",
    "Su pricipal uso es pronosticar valores a futuro de una variable.\n",
    "\n",
    "Tipos:\n",
    " - Random Walk\n",
    " - Autoregressive Models AR(p)\n",
    " - Autoregressive Moving Average ARMA(p,q)\n",
    " - Autoregressive Integral Moving Average ARIMA(p,d,q)\n",
    " - Autoregressive Integrated Moving Average with Seasonality ARIMA(p,d,q)SARIMA(P,D,Q,#p)\n",
    "\n",
    "#### Random Walk\n",
    "\n",
    "1 sola variable a modelar\n",
    "Y_t; t=perido(dias, semana, mes, trimestre, año)\n",
    "Y_t = Y_(t-1) + ε_t;        ε_t ~ N(ε=0, σ_ε)\n",
    "DRIFT = φ_0\n",
    "RW with DRIFT => Y_t = φ_0 + Y_(t-1) + ε_t;      ε_t ~ N(ε=0, σ_ε)\n",
    "\n"
   ]
  }
 ],
 "metadata": {
  "language_info": {
   "name": "python"
  },
  "orig_nbformat": 4
 },
 "nbformat": 4,
 "nbformat_minor": 2
}
