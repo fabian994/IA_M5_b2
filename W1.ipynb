{
 "cells": [
  {
   "cell_type": "markdown",
   "metadata": {},
   "source": [
    "A01367585 | Fabián González Vera"
   ]
  },
  {
   "cell_type": "code",
   "execution_count": null,
   "metadata": {},
   "outputs": [],
   "source": [
    "import pandas as pd\n",
    "import matplotlib.pyplot as plt\n",
    "import numpy as np\n",
    "import seaborn as sns\n",
    "from scipy.stats.mstats import winsorize"
   ]
  },
  {
   "cell_type": "markdown",
   "metadata": {},
   "source": [
    "https://rpubs.com/cdorante/tc3006c_p2"
   ]
  },
  {
   "cell_type": "markdown",
   "metadata": {},
   "source": [
    "# Descriptive statistics for ratios/percentages\n",
    "\n",
    "Como reportar el promedio/medida de tendencia central de proporciones\n",
    "Ej.\n",
    "\n",
    "Ventas anuales de producto\n",
    "\n",
    "```\n",
    "| producto  | Precio Unitario | #unidades | Ventas | costo unitario | costo total | ganancia bruta | margen de ganancia | <br>\n",
    "| laptop    | $20,000         |    20     |  2M    |  $16,000       |  1.6M       |  400k | 0.20 |<br>\n",
    "| Mouse     | $1,000       |    100     |  100k    |  $4,000       |  40k       |  60k | 0.60 |<br>\n",
    "| Sumatoria | - | - | 2.1 | - | - | 460k | 0.40 |\n",
    "```\n",
    "\n",
    "margen de ganancia = (0.20+0.60)/2=0.40\n",
    "\n",
    "\n",
    "JAMÁS CALCULEN PROMDIOS ARTIMETICO DE VARIABLES DE PROPORCIONES/%\n",
    "\n",
    "Promedio ponderado = Sumatoria(Numerador)/sumatoria(denominador)\n",
    "Para medidas de dispersion interpretar percentiles: Q1, Q2, Q3, IQR\n",
    "\n",
    "Dummy encoding\n",
    "codifica variables categorias como numericas, genera n-1 variables, escoge una variable como base, el base es 0 en todas las demas variables.\n",
    "\n",
    "Cuando las variables en regresion lineal son dummies, no se interpretan de la manera que se interpretan las demas variables, lo que sucede es que hay n ecuaciones de regresion como hay n dummies, una ecuacion para cada categoria.\n",
    "\n",
    "Su Beta es la distancia que la linea con ciertas variables categoricas esta de la otra linea sin varibable.\n",
    "\n"
   ]
  },
  {
   "cell_type": "markdown",
   "metadata": {},
   "source": [
    "# Review Regression wit categorical variables interaction effects\n",
    "\n",
    "Cuando se trata de variables categoricas, se convierte en valores binarios, con cada valor siendo una columna con Dummies es n-1; al hacer una regresion lineal en esencia se crean n ecuaciones.\n",
    "\n",
    "\n",
    "## Interaction Effect\n",
    "\n",
    "y = b0 + b1 * x1 + [b2 * x2g2 + b2 * x2g3] + b4(x2g2 * x1) + b5(x2g3 * x1) * E"
   ]
  },
  {
   "cell_type": "markdown",
   "metadata": {},
   "source": [
    "# Time Series/ modelos autoregresivos\n",
    "\n",
    "El proposito es entender los valores con su pasado.\n",
    "Su pricipal uso es pronosticar valores a futuro de una variable.\n",
    "\n",
    "Y_t => Como se ha comportado en sus valores pasados Y_(t-n), encontrar patrones y generar un pronostico\n",
    "\n",
    "Patrones :\n",
    "    - Tendencia (Memoria Largo plazo)\n",
    "    - Autocorrelacion entre valores anteriores (Memoria Largo plazo)\n",
    "    - 'Shocks' externos (Memoria Corto plazo)\n",
    "\n",
    "Stationary vs Non-Stationary\n",
    "\n",
    "Stationary\n",
    "1) Y-_t ~= Y-_(t-n)\n",
    "2) Var(Y_t) ~= Var(Y_(t-h)) o SD(Y_t) ~= SD(Y_(t-h))\n",
    "\n",
    "Non-Stationary\n",
    "Convertir de No estacionaria a estacionaria\n",
    "1) Aplicar el log nat a la serie Y_t\n",
    "2) Aplicar una diferencia del log de Y_t\n",
    "    -   Operaciones:\n",
    "        - Dif de 1 log\n",
    "        - Dif de n logs\n",
    "\n",
    "Tipos:\n",
    " - Random Walk\n",
    " - Autoregressive Models AR(p)\n",
    " - Autoregressive Moving Average ARMA(p,q)\n",
    " - Autoregressive Integral Moving Average ARIMA(p,d,q)\n",
    " - Autoregressive Integrated Moving Average with Seasonality ARIMA(p,d,q)SARIMA(P,D,Q,#p)\n",
    "\n",
    "#### Random Walk\n",
    "\n",
    "1 sola variable a modelar\n",
    "Y_t; t=perido(dias, semana, mes, trimestre, año)\n",
    "RW => Y_t = Y_(t-1) + ε_t;        ε_t ~ N(ε=0, σ_ε); Variable aleatoria y No Estacionaria\n",
    "DRIFT = φ_0; representa impacto del ambiente\n",
    "RW with DRIFT => Y_t = φ_0 + φ_1*Y_(t-1) + ε_t;   φ_1=1;   ε_t ~ N(ε=0, σ_ε)\n",
    "\n",
    "Una varieble estacionaria es estable en un rango.\n",
    "Y-_t =~ Y-_(t+n)\n",
    "\n",
    "σ^2_y_t =~ σ^2_y_(t+n)\n",
    "\n",
    "\n"
   ]
  },
  {
   "cell_type": "markdown",
   "metadata": {},
   "source": [
    "### Modelos ARIMA-SARIMA(p,d,q)(P,D,Q,#p)\n",
    "\n",
    "Parametros a calibrar:\n",
    " - p, parametros autoregresivos\n",
    " - d, # de 1a´s diferencias aplicadas a la serie original (d=0/1/x) \n",
    " - q, # de terminos de Moving Average, \n",
    " - \n",
    "\n",
    "Y_t = φ_0 + φ_1*Y_(t-1) +   φ_2 *Y_(t-2) +  φ_p *Y_(t-p) + ε_t;\n",
    "\n",
    "Para convertir una variable No Estacionaria a Estacionaria\n",
    "- Aplicar log\n",
    "- Aplicar 1a diferencia, log - lo de ayer\n",
    "    - ej: si el tiempo es mensual; \n",
    "        - DF 1log => % de cambio mensual (d=1,D=0)\n",
    "        - DF 2log => % de cambio bimensual\n",
    "        - DF 12log => % de cambio anual (d=0,D=1); este tiene mayor prioridad<br>\n",
    "    Esto da la d, (p,**d**,q)\n",
    "\n",
    "Prueba de Dicky-Fuller para saber si una serie se puede tratar como serie Estacionaria\n",
    "\n",
    "(NULL) H0: |φ_1| = 1  => La serie es No Estacionaria <br>\n",
    "(ALT)  H1: |φ| < 1   => Es Estacionaria\n",
    "\n",
    "Si pvalue < 0.05, entonces tengo evidencia estadistica al 95% de confianza para RECHAZAR la hipotesis NULA\n"
   ]
  }
 ],
 "metadata": {
  "language_info": {
   "name": "python"
  },
  "orig_nbformat": 4
 },
 "nbformat": 4,
 "nbformat_minor": 2
}
