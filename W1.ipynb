{
 "cells": [
  {
   "cell_type": "markdown",
   "metadata": {},
   "source": [
    "A01367585 | Fabián González Vera"
   ]
  },
  {
   "cell_type": "code",
   "execution_count": null,
   "metadata": {},
   "outputs": [],
   "source": [
    "import pandas as pd\n",
    "import matplotlib.pyplot as plt\n",
    "import numpy as np\n",
    "import seaborn as sns\n",
    "from scipy.stats.mstats import winsorize"
   ]
  },
  {
   "cell_type": "markdown",
   "metadata": {},
   "source": [
    "https://rpubs.com/cdorante/tc3006c_p2"
   ]
  },
  {
   "cell_type": "markdown",
   "metadata": {},
   "source": [
    "# Descriptive statistics for ratios/percentages\n",
    "\n",
    "Como reportar el promedio/medida de tendencia central de proporciones\n",
    "Ej.\n",
    "\n",
    "Ventas anuales de producto\n",
    "\n",
    "```\n",
    "| producto  | Precio Unitario | #unidades | Ventas | costo unitario | costo total | ganancia bruta | margen de ganancia | <br>\n",
    "| laptop    | $20,000         |    20     |  2M    |  $16,000       |  1.6M       |  400k | 0.20 |<br>\n",
    "| Mouse     | $1,000       |    100     |  100k    |  $4,000       |  40k       |  60k | 0.60 |<br>\n",
    "| Sumatoria | - | - | 2.1 | - | - | 460k | 0.40 |\n",
    "```\n",
    "\n",
    "margen de ganancia = (0.20+0.60)/2=0.40\n",
    "\n",
    "\n",
    "JAMÁS CALCULEN PROMDIOS ARTIMETICO DE VARIABLES DE PROPORCIONES/%\n",
    "\n",
    "Promedio ponderado = Sumatoria(Numerador)/sumatoria(denominador)\n",
    "Para medidas de dispersion interpretar percentiles: Q1, Q2, Q3, IQR\n",
    "\n",
    "\n"
   ]
  },
  {
   "cell_type": "markdown",
   "metadata": {},
   "source": [
    "# Review Regression wit categorical variables interaction effects\n",
    "\n"
   ]
  }
 ],
 "metadata": {
  "language_info": {
   "name": "python"
  },
  "orig_nbformat": 4
 },
 "nbformat": 4,
 "nbformat_minor": 2
}
